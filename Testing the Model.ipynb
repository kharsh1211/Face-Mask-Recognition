{
 "cells": [
  {
   "cell_type": "code",
   "execution_count": 1,
   "id": "6b839fdb",
   "metadata": {},
   "outputs": [],
   "source": [
    "import numpy as np\n",
    "import cv2\n",
    "import serial"
   ]
  },
  {
   "cell_type": "code",
   "execution_count": 4,
   "id": "c631d8bf",
   "metadata": {},
   "outputs": [],
   "source": [
    "#Setting up your arduino\n",
    "arduino = serial.Serial('COM4',9600)"
   ]
  },
  {
   "cell_type": "code",
   "execution_count": 3,
   "id": "6ea541d0",
   "metadata": {},
   "outputs": [],
   "source": [
    "with_mask = np.load('with_mask.npy')\n",
    "without_mask = np.load('without_mask.npy')"
   ]
  },
  {
   "cell_type": "code",
   "execution_count": 4,
   "id": "6c147e4c",
   "metadata": {},
   "outputs": [
    {
     "data": {
      "text/plain": [
       "(200, 50, 50, 3)"
      ]
     },
     "execution_count": 4,
     "metadata": {},
     "output_type": "execute_result"
    }
   ],
   "source": [
    "with_mask.shape"
   ]
  },
  {
   "cell_type": "code",
   "execution_count": 5,
   "id": "14eeb49a",
   "metadata": {},
   "outputs": [
    {
     "data": {
      "text/plain": [
       "(200, 50, 50, 3)"
      ]
     },
     "execution_count": 5,
     "metadata": {},
     "output_type": "execute_result"
    }
   ],
   "source": [
    "without_mask.shape"
   ]
  },
  {
   "cell_type": "code",
   "execution_count": 6,
   "id": "e49b366f",
   "metadata": {},
   "outputs": [],
   "source": [
    "# converting 4D data to 2D data\n",
    "with_mask = with_mask.reshape(200, 50*50*3)\n",
    "without_mask = without_mask.reshape(200, 50*50*3)"
   ]
  },
  {
   "cell_type": "code",
   "execution_count": 7,
   "id": "25939576",
   "metadata": {},
   "outputs": [
    {
     "data": {
      "text/plain": [
       "(200, 7500)"
      ]
     },
     "execution_count": 7,
     "metadata": {},
     "output_type": "execute_result"
    }
   ],
   "source": [
    "with_mask.shape"
   ]
  },
  {
   "cell_type": "code",
   "execution_count": 8,
   "id": "ae8b742b",
   "metadata": {},
   "outputs": [
    {
     "data": {
      "text/plain": [
       "(200, 7500)"
      ]
     },
     "execution_count": 8,
     "metadata": {},
     "output_type": "execute_result"
    }
   ],
   "source": [
    "without_mask.shape"
   ]
  },
  {
   "cell_type": "code",
   "execution_count": 9,
   "id": "98251373",
   "metadata": {},
   "outputs": [],
   "source": [
    "# concatinate the rows\n",
    "x = np.r_[without_mask, with_mask]"
   ]
  },
  {
   "cell_type": "code",
   "execution_count": 10,
   "id": "759f52da",
   "metadata": {},
   "outputs": [
    {
     "data": {
      "text/plain": [
       "(400, 7500)"
      ]
     },
     "execution_count": 10,
     "metadata": {},
     "output_type": "execute_result"
    }
   ],
   "source": [
    "x.shape"
   ]
  },
  {
   "cell_type": "code",
   "execution_count": 11,
   "id": "4f1d989f",
   "metadata": {},
   "outputs": [],
   "source": [
    "# creating np array  of 400 zeros\n",
    "labels = np.zeros(x.shape[0])"
   ]
  },
  {
   "cell_type": "code",
   "execution_count": 12,
   "id": "622357d9",
   "metadata": {},
   "outputs": [],
   "source": [
    "# first 200 pointing to 0 (without mask) and next 200 pointing to 1 (withmask)\n",
    "labels[200:] = 1.0"
   ]
  },
  {
   "cell_type": "code",
   "execution_count": 13,
   "id": "f4e9265d",
   "metadata": {},
   "outputs": [],
   "source": [
    "names = {1 : 'ACCESS GRANTED', 0 : 'ACCESS DENIED'}"
   ]
  },
  {
   "cell_type": "code",
   "execution_count": 14,
   "id": "af6493d5",
   "metadata": {},
   "outputs": [],
   "source": [
    "from sklearn.model_selection import train_test_split"
   ]
  },
  {
   "cell_type": "code",
   "execution_count": 15,
   "id": "ad1ea6ae",
   "metadata": {},
   "outputs": [],
   "source": [
    "x_train, x_test, y_train, y_test = train_test_split(x, labels, test_size=0.40, random_state=42)"
   ]
  },
  {
   "cell_type": "code",
   "execution_count": 16,
   "id": "943aa289",
   "metadata": {},
   "outputs": [
    {
     "data": {
      "text/plain": [
       "(240,)"
      ]
     },
     "execution_count": 16,
     "metadata": {},
     "output_type": "execute_result"
    }
   ],
   "source": [
    "y_train.shape"
   ]
  },
  {
   "cell_type": "code",
   "execution_count": 17,
   "id": "4125cf36",
   "metadata": {},
   "outputs": [
    {
     "data": {
      "text/plain": [
       "(240, 7500)"
      ]
     },
     "execution_count": 17,
     "metadata": {},
     "output_type": "execute_result"
    }
   ],
   "source": [
    "x_train.shape"
   ]
  },
  {
   "cell_type": "code",
   "execution_count": 18,
   "id": "7c37cb7b",
   "metadata": {},
   "outputs": [],
   "source": [
    "# PCA - Principal Component Analysis\n",
    "from sklearn.decomposition import PCA"
   ]
  },
  {
   "cell_type": "code",
   "execution_count": 19,
   "id": "11345130",
   "metadata": {},
   "outputs": [],
   "source": [
    "# Dimensionality reduction using PCA\n",
    "pca = PCA(n_components=3)\n",
    "x_train = pca.fit_transform(x_train)"
   ]
  },
  {
   "cell_type": "code",
   "execution_count": 20,
   "id": "31d562b4",
   "metadata": {},
   "outputs": [
    {
     "data": {
      "text/plain": [
       "array([1439.3275806 , -432.38595946,   20.0068858 ])"
      ]
     },
     "execution_count": 20,
     "metadata": {},
     "output_type": "execute_result"
    }
   ],
   "source": [
    "x_train[0]"
   ]
  },
  {
   "cell_type": "code",
   "execution_count": 21,
   "id": "abebeab3",
   "metadata": {},
   "outputs": [
    {
     "data": {
      "text/plain": [
       "(240, 3)"
      ]
     },
     "execution_count": 21,
     "metadata": {},
     "output_type": "execute_result"
    }
   ],
   "source": [
    "x_train.shape"
   ]
  },
  {
   "cell_type": "code",
   "execution_count": 22,
   "id": "6ff90832",
   "metadata": {},
   "outputs": [],
   "source": [
    "from sklearn import svm"
   ]
  },
  {
   "cell_type": "code",
   "execution_count": 23,
   "id": "68498749",
   "metadata": {},
   "outputs": [],
   "source": [
    "clf = svm.SVC()"
   ]
  },
  {
   "cell_type": "code",
   "execution_count": 24,
   "id": "2844fef6",
   "metadata": {
    "scrolled": true
   },
   "outputs": [
    {
     "data": {
      "text/plain": [
       "SVC()"
      ]
     },
     "execution_count": 24,
     "metadata": {},
     "output_type": "execute_result"
    }
   ],
   "source": [
    "clf.fit(x_train, y_train)"
   ]
  },
  {
   "cell_type": "code",
   "execution_count": 25,
   "id": "9c3e4775",
   "metadata": {},
   "outputs": [],
   "source": [
    "x_test = pca.transform(x_test)\n",
    "y_pred = clf.predict(x_test)"
   ]
  },
  {
   "cell_type": "code",
   "execution_count": 26,
   "id": "a8667de1",
   "metadata": {},
   "outputs": [
    {
     "name": "stdout",
     "output_type": "stream",
     "text": [
      "ACCESS DENIED\n",
      "ACCESS DENIED\n",
      "ACCESS DENIED\n",
      "ACCESS DENIED\n",
      "ACCESS DENIED\n",
      "ACCESS DENIED\n",
      "ACCESS DENIED\n",
      "ACCESS DENIED\n",
      "ACCESS DENIED\n",
      "ACCESS DENIED\n",
      "ACCESS DENIED\n",
      "ACCESS DENIED\n",
      "ACCESS DENIED\n",
      "ACCESS DENIED\n",
      "ACCESS DENIED\n",
      "ACCESS DENIED\n",
      "ACCESS DENIED\n",
      "ACCESS DENIED\n",
      "ACCESS DENIED\n",
      "ACCESS DENIED\n",
      "ACCESS DENIED\n",
      "ACCESS DENIED\n",
      "ACCESS DENIED\n",
      "ACCESS DENIED\n",
      "ACCESS DENIED\n",
      "ACCESS DENIED\n",
      "ACCESS DENIED\n",
      "ACCESS DENIED\n",
      "ACCESS DENIED\n",
      "ACCESS DENIED\n",
      "ACCESS DENIED\n",
      "ACCESS DENIED\n",
      "ACCESS DENIED\n",
      "ACCESS DENIED\n",
      "ACCESS DENIED\n",
      "ACCESS DENIED\n",
      "ACCESS DENIED\n",
      "ACCESS DENIED\n",
      "ACCESS DENIED\n",
      "ACCESS DENIED\n",
      "ACCESS DENIED\n",
      "ACCESS DENIED\n",
      "ACCESS DENIED\n",
      "ACCESS DENIED\n",
      "ACCESS DENIED\n",
      "ACCESS DENIED\n",
      "ACCESS DENIED\n",
      "ACCESS DENIED\n",
      "ACCESS DENIED\n",
      "ACCESS DENIED\n",
      "ACCESS DENIED\n",
      "ACCESS DENIED\n",
      "ACCESS DENIED\n",
      "ACCESS DENIED\n",
      "ACCESS DENIED\n",
      "ACCESS DENIED\n",
      "ACCESS DENIED\n",
      "ACCESS DENIED\n",
      "ACCESS DENIED\n",
      "ACCESS DENIED\n",
      "ACCESS DENIED\n",
      "ACCESS DENIED\n",
      "ACCESS DENIED\n",
      "ACCESS DENIED\n",
      "ACCESS DENIED\n",
      "ACCESS DENIED\n",
      "ACCESS DENIED\n",
      "ACCESS DENIED\n",
      "ACCESS DENIED\n",
      "ACCESS DENIED\n",
      "ACCESS DENIED\n",
      "ACCESS DENIED\n",
      "ACCESS DENIED\n",
      "ACCESS DENIED\n",
      "ACCESS GRANTED\n",
      "ACCESS DENIED\n",
      "ACCESS GRANTED\n",
      "ACCESS GRANTED\n",
      "ACCESS DENIED\n",
      "ACCESS GRANTED\n",
      "ACCESS DENIED\n",
      "ACCESS GRANTED\n",
      "ACCESS DENIED\n",
      "ACCESS DENIED\n",
      "ACCESS DENIED\n",
      "ACCESS DENIED\n",
      "ACCESS DENIED\n",
      "ACCESS GRANTED\n",
      "ACCESS GRANTED\n",
      "ACCESS GRANTED\n",
      "ACCESS GRANTED\n",
      "ACCESS GRANTED\n",
      "ACCESS GRANTED\n",
      "ACCESS GRANTED\n",
      "ACCESS GRANTED\n",
      "ACCESS GRANTED\n",
      "ACCESS DENIED\n",
      "ACCESS GRANTED\n",
      "ACCESS GRANTED\n",
      "ACCESS DENIED\n",
      "ACCESS DENIED\n",
      "ACCESS GRANTED\n",
      "ACCESS GRANTED\n",
      "ACCESS DENIED\n",
      "ACCESS GRANTED\n",
      "ACCESS DENIED\n",
      "ACCESS DENIED\n",
      "ACCESS GRANTED\n",
      "ACCESS DENIED\n",
      "ACCESS DENIED\n",
      "ACCESS DENIED\n",
      "ACCESS GRANTED\n",
      "ACCESS GRANTED\n",
      "ACCESS GRANTED\n",
      "ACCESS GRANTED\n",
      "ACCESS GRANTED\n",
      "ACCESS GRANTED\n",
      "ACCESS GRANTED\n",
      "ACCESS GRANTED\n",
      "ACCESS GRANTED\n",
      "ACCESS GRANTED\n",
      "ACCESS GRANTED\n",
      "ACCESS GRANTED\n",
      "ACCESS GRANTED\n",
      "ACCESS GRANTED\n",
      "ACCESS GRANTED\n",
      "ACCESS GRANTED\n",
      "ACCESS GRANTED\n",
      "ACCESS GRANTED\n",
      "ACCESS DENIED\n",
      "ACCESS DENIED\n",
      "ACCESS DENIED\n",
      "ACCESS DENIED\n",
      "ACCESS DENIED\n",
      "ACCESS DENIED\n",
      "ACCESS DENIED\n",
      "ACCESS GRANTED\n",
      "ACCESS DENIED\n",
      "ACCESS DENIED\n",
      "ACCESS GRANTED\n",
      "ACCESS DENIED\n",
      "ACCESS DENIED\n",
      "ACCESS DENIED\n",
      "ACCESS DENIED\n",
      "ACCESS DENIED\n",
      "ACCESS DENIED\n",
      "ACCESS DENIED\n",
      "ACCESS GRANTED\n",
      "ACCESS DENIED\n",
      "ACCESS DENIED\n",
      "ACCESS DENIED\n",
      "ACCESS GRANTED\n",
      "ACCESS GRANTED\n",
      "ACCESS GRANTED\n",
      "ACCESS DENIED\n",
      "ACCESS DENIED\n",
      "ACCESS DENIED\n",
      "ACCESS DENIED\n",
      "ACCESS DENIED\n",
      "ACCESS DENIED\n",
      "ACCESS DENIED\n",
      "ACCESS GRANTED\n",
      "ACCESS DENIED\n",
      "ACCESS DENIED\n",
      "ACCESS DENIED\n",
      "ACCESS DENIED\n",
      "ACCESS DENIED\n",
      "ACCESS DENIED\n",
      "ACCESS DENIED\n",
      "ACCESS DENIED\n",
      "ACCESS DENIED\n",
      "ACCESS DENIED\n",
      "ACCESS DENIED\n",
      "ACCESS DENIED\n",
      "ACCESS DENIED\n",
      "ACCESS DENIED\n",
      "ACCESS DENIED\n",
      "ACCESS GRANTED\n",
      "ACCESS GRANTED\n",
      "ACCESS DENIED\n",
      "ACCESS DENIED\n",
      "ACCESS GRANTED\n",
      "ACCESS DENIED\n",
      "ACCESS DENIED\n",
      "ACCESS GRANTED\n",
      "ACCESS GRANTED\n",
      "ACCESS DENIED\n",
      "ACCESS GRANTED\n",
      "ACCESS DENIED\n",
      "ACCESS GRANTED\n",
      "ACCESS DENIED\n",
      "ACCESS DENIED\n",
      "ACCESS DENIED\n",
      "ACCESS DENIED\n",
      "ACCESS GRANTED\n",
      "ACCESS DENIED\n",
      "ACCESS DENIED\n",
      "ACCESS GRANTED\n",
      "ACCESS GRANTED\n",
      "ACCESS GRANTED\n",
      "ACCESS GRANTED\n",
      "ACCESS GRANTED\n",
      "ACCESS GRANTED\n",
      "ACCESS GRANTED\n",
      "ACCESS DENIED\n",
      "ACCESS DENIED\n",
      "ACCESS DENIED\n",
      "ACCESS DENIED\n",
      "ACCESS GRANTED\n",
      "ACCESS DENIED\n",
      "ACCESS DENIED\n",
      "ACCESS GRANTED\n",
      "ACCESS GRANTED\n",
      "ACCESS GRANTED\n",
      "ACCESS GRANTED\n",
      "ACCESS DENIED\n",
      "ACCESS GRANTED\n",
      "ACCESS GRANTED\n",
      "ACCESS GRANTED\n",
      "ACCESS DENIED\n",
      "ACCESS GRANTED\n",
      "ACCESS GRANTED\n",
      "ACCESS GRANTED\n",
      "ACCESS GRANTED\n",
      "ACCESS DENIED\n",
      "ACCESS DENIED\n",
      "ACCESS DENIED\n",
      "ACCESS GRANTED\n",
      "ACCESS DENIED\n",
      "ACCESS GRANTED\n",
      "ACCESS GRANTED\n",
      "ACCESS DENIED\n",
      "ACCESS GRANTED\n",
      "ACCESS GRANTED\n",
      "ACCESS GRANTED\n",
      "ACCESS GRANTED\n",
      "ACCESS GRANTED\n",
      "ACCESS GRANTED\n"
     ]
    },
    {
     "ename": "SerialException",
     "evalue": "WriteFile failed (PermissionError(13, 'Access is denied.', None, 5))",
     "output_type": "error",
     "traceback": [
      "\u001b[1;31m---------------------------------------------------------------------------\u001b[0m",
      "\u001b[1;31mSerialException\u001b[0m                           Traceback (most recent call last)",
      "\u001b[1;32m~\\AppData\\Local\\Temp/ipykernel_8528/1264535806.py\u001b[0m in \u001b[0;36m<module>\u001b[1;34m\u001b[0m\n\u001b[0;32m     18\u001b[0m                 \u001b[0mcv2\u001b[0m\u001b[1;33m.\u001b[0m\u001b[0mputText\u001b[0m\u001b[1;33m(\u001b[0m\u001b[0mimg\u001b[0m\u001b[1;33m,\u001b[0m \u001b[0mn\u001b[0m\u001b[1;33m,\u001b[0m \u001b[1;33m(\u001b[0m\u001b[0mx\u001b[0m\u001b[1;33m,\u001b[0m\u001b[0my\u001b[0m\u001b[1;33m)\u001b[0m\u001b[1;33m,\u001b[0m \u001b[0mfont\u001b[0m\u001b[1;33m,\u001b[0m \u001b[1;36m1\u001b[0m\u001b[1;33m,\u001b[0m \u001b[1;33m(\u001b[0m\u001b[1;36m0\u001b[0m\u001b[1;33m,\u001b[0m\u001b[1;36m250\u001b[0m\u001b[1;33m,\u001b[0m\u001b[1;36m0\u001b[0m\u001b[1;33m)\u001b[0m\u001b[1;33m,\u001b[0m \u001b[1;36m2\u001b[0m\u001b[1;33m)\u001b[0m\u001b[1;33m\u001b[0m\u001b[1;33m\u001b[0m\u001b[0m\n\u001b[0;32m     19\u001b[0m                 \u001b[0mprint\u001b[0m\u001b[1;33m(\u001b[0m\u001b[0mn\u001b[0m\u001b[1;33m)\u001b[0m\u001b[1;33m\u001b[0m\u001b[1;33m\u001b[0m\u001b[0m\n\u001b[1;32m---> 20\u001b[1;33m                 \u001b[0marduino\u001b[0m\u001b[1;33m.\u001b[0m\u001b[0mwrite\u001b[0m\u001b[1;33m(\u001b[0m\u001b[1;34mb'H'\u001b[0m\u001b[1;33m)\u001b[0m\u001b[1;33m\u001b[0m\u001b[1;33m\u001b[0m\u001b[0m\n\u001b[0m\u001b[0;32m     21\u001b[0m             \u001b[1;32melse\u001b[0m \u001b[1;33m:\u001b[0m\u001b[1;33m\u001b[0m\u001b[1;33m\u001b[0m\u001b[0m\n\u001b[0;32m     22\u001b[0m                 \u001b[0mcv2\u001b[0m\u001b[1;33m.\u001b[0m\u001b[0mrectangle\u001b[0m\u001b[1;33m(\u001b[0m\u001b[0mimg\u001b[0m\u001b[1;33m,\u001b[0m \u001b[1;33m(\u001b[0m\u001b[0mx\u001b[0m\u001b[1;33m,\u001b[0m\u001b[0my\u001b[0m\u001b[1;33m)\u001b[0m\u001b[1;33m,\u001b[0m \u001b[1;33m(\u001b[0m\u001b[0mx\u001b[0m\u001b[1;33m+\u001b[0m\u001b[0my\u001b[0m\u001b[1;33m,\u001b[0m \u001b[0my\u001b[0m\u001b[1;33m+\u001b[0m\u001b[0mw\u001b[0m\u001b[1;33m)\u001b[0m\u001b[1;33m,\u001b[0m \u001b[1;33m(\u001b[0m\u001b[1;36m0\u001b[0m\u001b[1;33m,\u001b[0m\u001b[1;36m0\u001b[0m\u001b[1;33m,\u001b[0m\u001b[1;36m255\u001b[0m\u001b[1;33m)\u001b[0m\u001b[1;33m,\u001b[0m \u001b[1;36m4\u001b[0m\u001b[1;33m)\u001b[0m\u001b[1;33m\u001b[0m\u001b[1;33m\u001b[0m\u001b[0m\n",
      "\u001b[1;32m~\\anaconda3\\lib\\site-packages\\serial\\serialwin32.py\u001b[0m in \u001b[0;36mwrite\u001b[1;34m(self, data)\u001b[0m\n\u001b[0;32m    315\u001b[0m             \u001b[1;32mif\u001b[0m \u001b[0mself\u001b[0m\u001b[1;33m.\u001b[0m\u001b[0m_write_timeout\u001b[0m \u001b[1;33m!=\u001b[0m \u001b[1;36m0\u001b[0m\u001b[1;33m:\u001b[0m  \u001b[1;31m# if blocking (None) or w/ write timeout (>0)\u001b[0m\u001b[1;33m\u001b[0m\u001b[1;33m\u001b[0m\u001b[0m\n\u001b[0;32m    316\u001b[0m                 \u001b[1;32mif\u001b[0m \u001b[1;32mnot\u001b[0m \u001b[0msuccess\u001b[0m \u001b[1;32mand\u001b[0m \u001b[0mwin32\u001b[0m\u001b[1;33m.\u001b[0m\u001b[0mGetLastError\u001b[0m\u001b[1;33m(\u001b[0m\u001b[1;33m)\u001b[0m \u001b[1;32mnot\u001b[0m \u001b[1;32min\u001b[0m \u001b[1;33m(\u001b[0m\u001b[0mwin32\u001b[0m\u001b[1;33m.\u001b[0m\u001b[0mERROR_SUCCESS\u001b[0m\u001b[1;33m,\u001b[0m \u001b[0mwin32\u001b[0m\u001b[1;33m.\u001b[0m\u001b[0mERROR_IO_PENDING\u001b[0m\u001b[1;33m)\u001b[0m\u001b[1;33m:\u001b[0m\u001b[1;33m\u001b[0m\u001b[1;33m\u001b[0m\u001b[0m\n\u001b[1;32m--> 317\u001b[1;33m                     \u001b[1;32mraise\u001b[0m \u001b[0mSerialException\u001b[0m\u001b[1;33m(\u001b[0m\u001b[1;34m\"WriteFile failed ({!r})\"\u001b[0m\u001b[1;33m.\u001b[0m\u001b[0mformat\u001b[0m\u001b[1;33m(\u001b[0m\u001b[0mctypes\u001b[0m\u001b[1;33m.\u001b[0m\u001b[0mWinError\u001b[0m\u001b[1;33m(\u001b[0m\u001b[1;33m)\u001b[0m\u001b[1;33m)\u001b[0m\u001b[1;33m)\u001b[0m\u001b[1;33m\u001b[0m\u001b[1;33m\u001b[0m\u001b[0m\n\u001b[0m\u001b[0;32m    318\u001b[0m \u001b[1;33m\u001b[0m\u001b[0m\n\u001b[0;32m    319\u001b[0m                 \u001b[1;31m# Wait for the write to complete.\u001b[0m\u001b[1;33m\u001b[0m\u001b[1;33m\u001b[0m\u001b[0m\n",
      "\u001b[1;31mSerialException\u001b[0m: WriteFile failed (PermissionError(13, 'Access is denied.', None, 5))"
     ]
    }
   ],
   "source": [
    "haar_data = cv2.CascadeClassifier('data.xml')\n",
    "capture = cv2.VideoCapture(0)\n",
    "data = []\n",
    "font = cv2.FONT_HERSHEY_COMPLEX\n",
    "while True:\n",
    "    flag, img = capture.read()\n",
    "    if flag:\n",
    "        faces = haar_data.detectMultiScale(img)\n",
    "        for x,y,w,h in faces:\n",
    "            face = img[y:y+h, x:x+w, :]\n",
    "            face = cv2.resize(face, (50,50))\n",
    "            face = face.reshape(1, -1)\n",
    "            face = pca.transform(face)\n",
    "            pred = clf.predict(face)[0]\n",
    "            n = names[int(pred)]\n",
    "            if n=='ACCESS GRANTED' :\n",
    "                cv2.rectangle(img, (x,y), (x+y, y+w), (0,255,0), 4)\n",
    "                cv2.putText(img, n, (x,y), font, 1, (0,250,0), 2)\n",
    "                print(n)\n",
    "                arduino.write(b'1')\n",
    "            else :\n",
    "                cv2.rectangle(img, (x,y), (x+y, y+w), (0,0,255), 4)\n",
    "                cv2.putText(img, n, (x,y), font, 1, (0,0,250), 2)\n",
    "                print(n)\n",
    "                arduino.write(b'0')\n",
    "                \n",
    "        cv2.imshow('Result', img)\n",
    "        if cv2.waitKey(2)==27:\n",
    "            break;\n",
    "capture.release()\n",
    "cv2.destroyAllWindows()"
   ]
  },
  {
   "cell_type": "code",
   "execution_count": null,
   "id": "37218c8f",
   "metadata": {},
   "outputs": [],
   "source": []
  }
 ],
 "metadata": {
  "kernelspec": {
   "display_name": "Python 3 (ipykernel)",
   "language": "python",
   "name": "python3"
  },
  "language_info": {
   "codemirror_mode": {
    "name": "ipython",
    "version": 3
   },
   "file_extension": ".py",
   "mimetype": "text/x-python",
   "name": "python",
   "nbconvert_exporter": "python",
   "pygments_lexer": "ipython3",
   "version": "3.9.7"
  }
 },
 "nbformat": 4,
 "nbformat_minor": 5
}
